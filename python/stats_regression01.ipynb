{
 "cells": [
  {
   "cell_type": "markdown",
   "id": "065b2b09-7d0e-4c9a-8759-6fccfeacb908",
   "metadata": {},
   "source": [
    "# 単回帰分析\n",
    "\n",
    "## Problem\n",
    "以下のデータの単回帰分析を行う\n",
    "\n",
    "| x |  y |\n",
    "| - |  - |\n",
    "| 4 | 10 |\n",
    "| 5 | 12 |\n",
    "| 8 | 14 |\n",
    "| 2 |  4 |\n",
    "| 6 | 10 |\n",
    "\n",
    "自分で作った簡単な単回帰分析サンプル\n",
    "エクセルで答えを確認: y = 1.5x + 2.5"
   ]
  },
  {
   "cell_type": "code",
   "execution_count": 1,
   "id": "6e99b169-fa1f-4199-ab05-0e51d1bd6475",
   "metadata": {},
   "outputs": [],
   "source": [
    "import numpy as np"
   ]
  },
  {
   "cell_type": "code",
   "execution_count": 2,
   "id": "ceff9dae-865d-4152-a218-accac0d6881a",
   "metadata": {},
   "outputs": [
    {
     "data": {
      "text/plain": [
       "array([[ 4, 10],\n",
       "       [ 5, 12],\n",
       "       [ 8, 14],\n",
       "       [ 2,  4],\n",
       "       [ 6, 10]])"
      ]
     },
     "execution_count": 2,
     "metadata": {},
     "output_type": "execute_result"
    }
   ],
   "source": [
    "data = np.array([\n",
    "    [4, 5, 8, 2, 6],\n",
    "    [10, 12, 14, 4, 10]\n",
    "    ]).T\n",
    "data"
   ]
  },
  {
   "cell_type": "code",
   "execution_count": 3,
   "id": "6c2fcac9-a825-4588-b6b0-0ef320af2f9e",
   "metadata": {},
   "outputs": [
    {
     "name": "stdout",
     "output_type": "stream",
     "text": [
      "[[4]\n",
      " [5]\n",
      " [8]\n",
      " [2]\n",
      " [6]]\n",
      "----------\n",
      "[[10]\n",
      " [12]\n",
      " [14]\n",
      " [ 4]\n",
      " [10]]\n"
     ]
    }
   ],
   "source": [
    "features = data[:,0:1]\n",
    "target = data[:,1:2]\n",
    "print(features)\n",
    "print(\"-\" * 10)\n",
    "print(target)"
   ]
  },
  {
   "cell_type": "code",
   "execution_count": 4,
   "id": "cdf4171e-d19c-4a9d-8028-b96b0781cc15",
   "metadata": {},
   "outputs": [
    {
     "name": "stdout",
     "output_type": "stream",
     "text": [
      "intercept:  2.5 , slope:  1.5\n"
     ]
    }
   ],
   "source": [
    "regressor = np.concatenate([np.ones((features.shape[0], 1)),features], axis=1)\n",
    "parameter = np.linalg.inv(regressor.T @ regressor) @ regressor.T @ target\n",
    "print(\"intercept: \", round(parameter[0, 0], 1), \", slope: \", round(parameter[1, 0], 2))"
   ]
  },
  {
   "cell_type": "code",
   "execution_count": 5,
   "id": "86f56731-0f10-441d-8c92-7de7b303c843",
   "metadata": {},
   "outputs": [
    {
     "name": "stdout",
     "output_type": "stream",
     "text": [
      "rmse: 1.4832 , r^2: 0.8036\n"
     ]
    }
   ],
   "source": [
    "rmse = np.sqrt(np.mean(np.square(regressor @ parameter - target)))\n",
    "r_sq = 1 - np.sum(np.square(regressor @ parameter - target)) / (np.sum(np.square(target - np.mean(target))))\n",
    "print(\"rmse:\", round(rmse, 4), \", r^2:\", round(r_sq, 4))"
   ]
  }
 ],
 "metadata": {
  "kernelspec": {
   "display_name": "Python 3 (ipykernel)",
   "language": "python",
   "name": "python3"
  },
  "language_info": {
   "codemirror_mode": {
    "name": "ipython",
    "version": 3
   },
   "file_extension": ".py",
   "mimetype": "text/x-python",
   "name": "python",
   "nbconvert_exporter": "python",
   "pygments_lexer": "ipython3",
   "version": "3.10.2"
  }
 },
 "nbformat": 4,
 "nbformat_minor": 5
}

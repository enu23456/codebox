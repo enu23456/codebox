{
 "cells": [
  {
   "cell_type": "markdown",
   "id": "065b2b09-7d0e-4c9a-8759-6fccfeacb908",
   "metadata": {},
   "source": [
    "# 単回帰分析\n",
    "\n",
    "『永田靖、棟近雅彦．多変量解析法入門．サイエンス社，2001，p.43』の例題をPythonコードで実装 ※解法は書籍に沿っていない"
   ]
  },
  {
   "cell_type": "code",
   "execution_count": 1,
   "id": "6e99b169-fa1f-4199-ab05-0e51d1bd6475",
   "metadata": {},
   "outputs": [],
   "source": [
    "import numpy as np"
   ]
  },
  {
   "cell_type": "code",
   "execution_count": 2,
   "id": "ceff9dae-865d-4152-a218-accac0d6881a",
   "metadata": {},
   "outputs": [
    {
     "data": {
      "text/plain": [
       "array([[ 2.2, 71. ],\n",
       "       [ 4.1, 81. ],\n",
       "       [ 5.5, 86. ],\n",
       "       [ 1.9, 72. ],\n",
       "       [ 3.4, 77. ],\n",
       "       [ 2.6, 73. ],\n",
       "       [ 4.2, 80. ],\n",
       "       [ 3.7, 81. ],\n",
       "       [ 4.9, 85. ],\n",
       "       [ 3.2, 74. ]])"
      ]
     },
     "execution_count": 2,
     "metadata": {},
     "output_type": "execute_result"
    }
   ],
   "source": [
    "data = np.array([\n",
    "    [2.2, 4.1, 5.5,1.9,3.4,2.6,4.2,3.7,4.9,3.2],\n",
    "    [71, 81, 86, 72, 77, 73, 80, 81, 85, 74]\n",
    "    ]).T\n",
    "data"
   ]
  },
  {
   "cell_type": "code",
   "execution_count": 3,
   "id": "6c2fcac9-a825-4588-b6b0-0ef320af2f9e",
   "metadata": {},
   "outputs": [
    {
     "name": "stdout",
     "output_type": "stream",
     "text": [
      "[[2.2]\n",
      " [4.1]\n",
      " [5.5]\n",
      " [1.9]\n",
      " [3.4]\n",
      " [2.6]\n",
      " [4.2]\n",
      " [3.7]\n",
      " [4.9]\n",
      " [3.2]]\n",
      "----------\n",
      "[[71.]\n",
      " [81.]\n",
      " [86.]\n",
      " [72.]\n",
      " [77.]\n",
      " [73.]\n",
      " [80.]\n",
      " [81.]\n",
      " [85.]\n",
      " [74.]]\n"
     ]
    }
   ],
   "source": [
    "features = data[:,0:1]  # target = data[:,1] だと1次元配列になってしまうので注意すること\n",
    "target = data[:,1:2]\n",
    "print(features)\n",
    "print(\"-\" * 10)\n",
    "print(target)"
   ]
  },
  {
   "cell_type": "code",
   "execution_count": 4,
   "id": "86f56731-0f10-441d-8c92-7de7b303c843",
   "metadata": {},
   "outputs": [
    {
     "name": "stdout",
     "output_type": "stream",
     "text": [
      "intercept:  61.9 , slope:  4.52\n",
      "rmse: 1.3154\n",
      "r^2: 0.934\n"
     ]
    }
   ],
   "source": [
    "regressor = np.concatenate([np.ones((features.shape[0], 1)),features], axis=1)\n",
    "parameter = np.linalg.inv(regressor.T @ regressor) @ regressor.T @ target\n",
    "print(\"intercept: \", round(parameter[0, 0], 1), \", slope: \", round(parameter[1, 0], 2))\n",
    "rmse = np.sqrt(np.mean(np.square(regressor @ parameter - target)))\n",
    "r_sq = 1 - np.sum(np.square(regressor @ parameter - target)) / (np.sum(np.square(target - np.mean(target))))\n",
    "print(\"rmse:\", round(rmse, 4))\n",
    "print(\"r^2:\", round(r_sq, 4))\n"
   ]
  }
 ],
 "metadata": {
  "kernelspec": {
   "display_name": "Python 3 (ipykernel)",
   "language": "python",
   "name": "python3"
  },
  "language_info": {
   "codemirror_mode": {
    "name": "ipython",
    "version": 3
   },
   "file_extension": ".py",
   "mimetype": "text/x-python",
   "name": "python",
   "nbconvert_exporter": "python",
   "pygments_lexer": "ipython3",
   "version": "3.10.2"
  }
 },
 "nbformat": 4,
 "nbformat_minor": 5
}

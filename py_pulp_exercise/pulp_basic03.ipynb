{
 "cells": [
  {
   "cell_type": "markdown",
   "id": "a7ecd192-1e08-49ee-b94f-ddad71574164",
   "metadata": {},
   "source": [
    "工場 (x, y) から商品を店 (a, b, c) に配送します。\n",
    "\n",
    "供給量、需要量、輸送コストが下表で与えられているとき、総輸送コストが最小となる配送の仕方を求めてください。\n",
    "\n",
    "\n",
    "|        | 店a | 店b | 店c | 供給量 |\n",
    "|     -  |   - |   - |   - |     - |\n",
    "| 工場x  |  10 |   6 |  16 |     8 |\n",
    "| 工場y  |   8 |   8 |   4 |    16 |\n",
    "| 需要量 |  12 |   4 |   8 |       |\n",
    "\n",
    "(http://www.nct9.ne.jp/m_hiroi/light/pulp01.html#chap03)"
   ]
  },
  {
   "cell_type": "code",
   "execution_count": 1,
   "id": "27d1d42b-9b94-45f1-a4e1-fe9c96ede527",
   "metadata": {},
   "outputs": [],
   "source": [
    "import pulp\n",
    "import pandas as pd"
   ]
  },
  {
   "cell_type": "code",
   "execution_count": 2,
   "id": "15909c84-bffd-4410-9deb-362acc750b95",
   "metadata": {},
   "outputs": [
    {
     "data": {
      "text/html": [
       "<div>\n",
       "<style scoped>\n",
       "    .dataframe tbody tr th:only-of-type {\n",
       "        vertical-align: middle;\n",
       "    }\n",
       "\n",
       "    .dataframe tbody tr th {\n",
       "        vertical-align: top;\n",
       "    }\n",
       "\n",
       "    .dataframe thead th {\n",
       "        text-align: right;\n",
       "    }\n",
       "</style>\n",
       "<table border=\"1\" class=\"dataframe\">\n",
       "  <thead>\n",
       "    <tr style=\"text-align: right;\">\n",
       "      <th></th>\n",
       "      <th>店a</th>\n",
       "      <th>店b</th>\n",
       "      <th>店c</th>\n",
       "      <th>供給量</th>\n",
       "    </tr>\n",
       "  </thead>\n",
       "  <tbody>\n",
       "    <tr>\n",
       "      <th>工場x</th>\n",
       "      <td>10</td>\n",
       "      <td>6</td>\n",
       "      <td>16</td>\n",
       "      <td>8.0</td>\n",
       "    </tr>\n",
       "    <tr>\n",
       "      <th>工場y</th>\n",
       "      <td>8</td>\n",
       "      <td>8</td>\n",
       "      <td>4</td>\n",
       "      <td>16.0</td>\n",
       "    </tr>\n",
       "    <tr>\n",
       "      <th>需要量</th>\n",
       "      <td>12</td>\n",
       "      <td>4</td>\n",
       "      <td>8</td>\n",
       "      <td>NaN</td>\n",
       "    </tr>\n",
       "  </tbody>\n",
       "</table>\n",
       "</div>"
      ],
      "text/plain": [
       "     店a  店b  店c   供給量\n",
       "工場x  10   6  16   8.0\n",
       "工場y   8   8   4  16.0\n",
       "需要量  12   4   8   NaN"
      ]
     },
     "execution_count": 2,
     "metadata": {},
     "output_type": "execute_result"
    }
   ],
   "source": [
    "df = pd.DataFrame(\n",
    "    columns=[\"店a\", \"店b\", \"店c\", \"供給量\"],\n",
    "    index=[\"工場x\", \"工場y\", \"需要量\"],\n",
    "    data=[\n",
    "        [10, 6, 16,  8],\n",
    "        [ 8, 8,  4, 16],\n",
    "        [12, 4,  8]\n",
    "    ]\n",
    ")\n",
    "df"
   ]
  },
  {
   "cell_type": "code",
   "execution_count": 3,
   "id": "618de77c-a0af-4322-902a-6741137e5b7a",
   "metadata": {},
   "outputs": [
    {
     "data": {
      "text/plain": [
       "transportation:\n",
       "MINIMIZE\n",
       "None\n",
       "VARIABLES"
      ]
     },
     "execution_count": 3,
     "metadata": {},
     "output_type": "execute_result"
    }
   ],
   "source": [
    "problem = pulp.LpProblem(name=\"transportation\", sense=pulp.LpMinimize)\n",
    "problem"
   ]
  },
  {
   "cell_type": "code",
   "execution_count": 4,
   "id": "40c69cda-ce18-4a6d-bbfe-c7ef5e0fc147",
   "metadata": {},
   "outputs": [
    {
     "data": {
      "text/plain": [
       "{'工場x': {'店a': _工場x_店a, '店b': _工場x_店b, '店c': _工場x_店c},\n",
       " '工場y': {'店a': _工場y_店a, '店b': _工場y_店b, '店c': _工場y_店c}}"
      ]
     },
     "execution_count": 4,
     "metadata": {},
     "output_type": "execute_result"
    }
   ],
   "source": [
    "factories = df.index[:-1].values.tolist()\n",
    "shops = df.columns[:-1].values.tolist()\n",
    "table = pulp.LpVariable.dicts(\"\", (factories, shops), lowBound=0, cat=pulp.LpInteger)\n",
    "table"
   ]
  },
  {
   "cell_type": "code",
   "execution_count": 5,
   "id": "b4b8c067-c13a-4ba0-9acf-38ab56b5cb90",
   "metadata": {},
   "outputs": [
    {
     "data": {
      "text/plain": [
       "transportation:\n",
       "MINIMIZE\n",
       "1*_工場x_店a + 1*_工場x_店b + 1*_工場x_店c + 1*_工場y_店a + 1*_工場y_店b + 1*_工場y_店c + 0\n",
       "VARIABLES\n",
       "0 <= _工場x_店a Integer\n",
       "0 <= _工場x_店b Integer\n",
       "0 <= _工場x_店c Integer\n",
       "0 <= _工場y_店a Integer\n",
       "0 <= _工場y_店b Integer\n",
       "0 <= _工場y_店c Integer"
      ]
     },
     "execution_count": 5,
     "metadata": {},
     "output_type": "execute_result"
    }
   ],
   "source": [
    "problem += pulp.lpSum([[table[f][s] for s in shops] for f in factories])\n",
    "problem"
   ]
  },
  {
   "cell_type": "code",
   "execution_count": 6,
   "id": "e6972205-7a9f-451b-889e-00a6d32bc56f",
   "metadata": {},
   "outputs": [
    {
     "data": {
      "text/plain": [
       "transportation:\n",
       "MINIMIZE\n",
       "1*_工場x_店a + 1*_工場x_店b + 1*_工場x_店c + 1*_工場y_店a + 1*_工場y_店b + 1*_工場y_店c + 0\n",
       "SUBJECT TO\n",
       "_C1: _工場x_店a + _工場x_店b + _工場x_店c <= 8\n",
       "\n",
       "_C2: _工場y_店a + _工場y_店b + _工場y_店c <= 16\n",
       "\n",
       "VARIABLES\n",
       "0 <= _工場x_店a Integer\n",
       "0 <= _工場x_店b Integer\n",
       "0 <= _工場x_店c Integer\n",
       "0 <= _工場y_店a Integer\n",
       "0 <= _工場y_店b Integer\n",
       "0 <= _工場y_店c Integer"
      ]
     },
     "execution_count": 6,
     "metadata": {},
     "output_type": "execute_result"
    }
   ],
   "source": [
    "for f in factories:\n",
    "    problem += pulp.lpSum([table[f][s] for s in shops]) <= df[\"供給量\"][f]\n",
    "problem"
   ]
  },
  {
   "cell_type": "code",
   "execution_count": 7,
   "id": "cabfd221-52f8-42ab-ad11-5d170e5364a4",
   "metadata": {},
   "outputs": [
    {
     "data": {
      "text/plain": [
       "transportation:\n",
       "MINIMIZE\n",
       "1*_工場x_店a + 1*_工場x_店b + 1*_工場x_店c + 1*_工場y_店a + 1*_工場y_店b + 1*_工場y_店c + 0\n",
       "SUBJECT TO\n",
       "_C1: _工場x_店a + _工場x_店b + _工場x_店c <= 8\n",
       "\n",
       "_C2: _工場y_店a + _工場y_店b + _工場y_店c <= 16\n",
       "\n",
       "_C3: _工場x_店a + _工場y_店a >= 12\n",
       "\n",
       "_C4: _工場x_店b + _工場y_店b >= 4\n",
       "\n",
       "_C5: _工場x_店c + _工場y_店c >= 8\n",
       "\n",
       "VARIABLES\n",
       "0 <= _工場x_店a Integer\n",
       "0 <= _工場x_店b Integer\n",
       "0 <= _工場x_店c Integer\n",
       "0 <= _工場y_店a Integer\n",
       "0 <= _工場y_店b Integer\n",
       "0 <= _工場y_店c Integer"
      ]
     },
     "execution_count": 7,
     "metadata": {},
     "output_type": "execute_result"
    }
   ],
   "source": [
    "for s in shops:\n",
    "    problem += pulp.lpSum([table[f][s] for f in factories]) >= df[s][\"需要量\"]\n",
    "problem"
   ]
  },
  {
   "cell_type": "code",
   "execution_count": 8,
   "id": "6293a323-bf93-449f-8154-cd725ae64d5e",
   "metadata": {},
   "outputs": [
    {
     "name": "stdout",
     "output_type": "stream",
     "text": [
      "Status Optimal\n"
     ]
    }
   ],
   "source": [
    "status = problem.solve(pulp.PULP_CBC_CMD(msg=0))\n",
    "print(\"Status\", pulp.LpStatus[status])"
   ]
  },
  {
   "cell_type": "code",
   "execution_count": 9,
   "id": "1a21cf36-f2a5-4821-8512-706e4c08807c",
   "metadata": {},
   "outputs": [
    {
     "name": "stdout",
     "output_type": "stream",
     "text": [
      "=== Assignment =========================\n",
      "総輸送コスト: 24.0\n",
      "----------------------------------------\n",
      "配送計画\n",
      "工場x to 店a : 0\n",
      "工場x to 店b : 4\n",
      "工場x to 店c : 4\n",
      "工場y to 店a : 12\n",
      "工場y to 店b : 0\n",
      "工場y to 店c : 4\n",
      "========================================\n"
     ]
    }
   ],
   "source": [
    "print(\"=\" * 3, \"Assignment\", \"=\" * 25)\n",
    "print('総輸送コスト: {}'.format(pulp.value(problem.objective)))\n",
    "print(\"-\" * 40)\n",
    "print(\"配送計画\")\n",
    "for f in factories:\n",
    "    for s in shops:\n",
    "        print(f, \"to\", s, \":\", int(table[f][s].value()))\n",
    "print(\"=\" * 40)"
   ]
  }
 ],
 "metadata": {
  "kernelspec": {
   "display_name": "Python 3 (ipykernel)",
   "language": "python",
   "name": "python3"
  },
  "language_info": {
   "codemirror_mode": {
    "name": "ipython",
    "version": 3
   },
   "file_extension": ".py",
   "mimetype": "text/x-python",
   "name": "python",
   "nbconvert_exporter": "python",
   "pygments_lexer": "ipython3",
   "version": "3.10.2"
  }
 },
 "nbformat": 4,
 "nbformat_minor": 5
}

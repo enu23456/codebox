{
 "cells": [
  {
   "cell_type": "markdown",
   "id": "99a3387f-205f-4141-8606-c959c0a0243d",
   "metadata": {},
   "source": [
    "## Problem\n",
    "\n",
    "ある工場では２つの製品Ｉ、II を作っている。これらの製品 1kg を作るのに必要となる\n",
    "原料、得られる利益（万円／kg）および原料の１日あたりの最大使用量(kg)は下表に示す\n",
    "とおりである。これらの条件をもとに、１日の利益を最大にする問題をＬＰで定式化せよ。\n",
    "\n",
    "|      | 製品1 | 製品2 | 使用可能量 |\n",
    "|    - |     - |     - |          - |\n",
    "|    E |     1 |     2 |          8 |\n",
    "|    F |     3 |     0 |         12 |\n",
    "|    G |     0 |     4 |         12 |\n",
    "| 利益 |     4 |     6 |            |\n",
    "\n",
    "(https://www.fit.ac.jp/~song/lecture/06/LP0606.pdf)"
   ]
  },
  {
   "cell_type": "code",
   "execution_count": 1,
   "id": "9ac34fbd-252f-42d3-b234-5d7757f58265",
   "metadata": {},
   "outputs": [],
   "source": [
    "import pulp\n",
    "import pandas as pd"
   ]
  },
  {
   "cell_type": "code",
   "execution_count": 2,
   "id": "ca4a4a14-1dbc-41e4-89e5-c875930cf065",
   "metadata": {},
   "outputs": [
    {
     "data": {
      "text/html": [
       "<div>\n",
       "<style scoped>\n",
       "    .dataframe tbody tr th:only-of-type {\n",
       "        vertical-align: middle;\n",
       "    }\n",
       "\n",
       "    .dataframe tbody tr th {\n",
       "        vertical-align: top;\n",
       "    }\n",
       "\n",
       "    .dataframe thead th {\n",
       "        text-align: right;\n",
       "    }\n",
       "</style>\n",
       "<table border=\"1\" class=\"dataframe\">\n",
       "  <thead>\n",
       "    <tr style=\"text-align: right;\">\n",
       "      <th></th>\n",
       "      <th>製品1</th>\n",
       "      <th>製品2</th>\n",
       "      <th>使用可能量</th>\n",
       "    </tr>\n",
       "  </thead>\n",
       "  <tbody>\n",
       "    <tr>\n",
       "      <th>E</th>\n",
       "      <td>1</td>\n",
       "      <td>2</td>\n",
       "      <td>8.0</td>\n",
       "    </tr>\n",
       "    <tr>\n",
       "      <th>F</th>\n",
       "      <td>3</td>\n",
       "      <td>0</td>\n",
       "      <td>12.0</td>\n",
       "    </tr>\n",
       "    <tr>\n",
       "      <th>G</th>\n",
       "      <td>0</td>\n",
       "      <td>4</td>\n",
       "      <td>12.0</td>\n",
       "    </tr>\n",
       "    <tr>\n",
       "      <th>利益</th>\n",
       "      <td>4</td>\n",
       "      <td>6</td>\n",
       "      <td>NaN</td>\n",
       "    </tr>\n",
       "  </tbody>\n",
       "</table>\n",
       "</div>"
      ],
      "text/plain": [
       "    製品1  製品2  使用可能量\n",
       "E     1    2    8.0\n",
       "F     3    0   12.0\n",
       "G     0    4   12.0\n",
       "利益    4    6    NaN"
      ]
     },
     "execution_count": 2,
     "metadata": {},
     "output_type": "execute_result"
    }
   ],
   "source": [
    "df = pd.DataFrame(\n",
    "    columns=[\"製品1\", \"製品2\", \"使用可能量\"],\n",
    "    index=[\"E\", \"F\", \"G\", \"利益\"],\n",
    "    data=[\n",
    "        [1, 2, 8],\n",
    "        [3, 0, 12],\n",
    "        [0, 4, 12],\n",
    "        [4, 6]\n",
    "         ]\n",
    "    )\n",
    "df"
   ]
  },
  {
   "cell_type": "code",
   "execution_count": 3,
   "id": "628404ab-f52d-40de-a98b-68d058905619",
   "metadata": {},
   "outputs": [
    {
     "data": {
      "text/plain": [
       "product:\n",
       "MAXIMIZE\n",
       "None\n",
       "VARIABLES"
      ]
     },
     "execution_count": 3,
     "metadata": {},
     "output_type": "execute_result"
    }
   ],
   "source": [
    "problem = pulp.LpProblem(name=\"product\", sense=pulp.LpMaximize)\n",
    "problem"
   ]
  },
  {
   "cell_type": "code",
   "execution_count": 4,
   "id": "e78604c4-c29b-41ae-9478-5df69a5883a4",
   "metadata": {},
   "outputs": [
    {
     "name": "stdout",
     "output_type": "stream",
     "text": [
      "products: ['製品1', '製品2']\n",
      "materials: ['E', 'F', 'G']\n"
     ]
    }
   ],
   "source": [
    "products = df.columns[:-1].values.tolist()\n",
    "materials = df.index[:-1].values.tolist()\n",
    "print(\"products:\", products)\n",
    "print(\"materials:\", materials)"
   ]
  },
  {
   "cell_type": "code",
   "execution_count": 5,
   "id": "0bfde41d-e610-4c95-872b-567c9ad577d7",
   "metadata": {},
   "outputs": [
    {
     "data": {
      "text/plain": [
       "{'製品1': _製品1, '製品2': _製品2}"
      ]
     },
     "execution_count": 5,
     "metadata": {},
     "output_type": "execute_result"
    }
   ],
   "source": [
    "table = pulp.LpVariable.dicts(\"\", (products), cat=pulp.LpInteger)\n",
    "table"
   ]
  },
  {
   "cell_type": "code",
   "execution_count": 6,
   "id": "f9ff496f-bf91-4fbc-bd56-4a03a028f5c3",
   "metadata": {},
   "outputs": [
    {
     "data": {
      "text/plain": [
       "product:\n",
       "MAXIMIZE\n",
       "4*_製品1 + 6*_製品2 + 0\n",
       "VARIABLES\n",
       "_製品1 free Integer\n",
       "_製品2 free Integer"
      ]
     },
     "execution_count": 6,
     "metadata": {},
     "output_type": "execute_result"
    }
   ],
   "source": [
    "problem += pulp.lpSum([table[p] * df[p][\"利益\"] for p in table.keys()])\n",
    "# df[\"製品1\"][\"利益\"]\n",
    "problem"
   ]
  },
  {
   "cell_type": "code",
   "execution_count": 7,
   "id": "e3672be7-6367-4c8d-97b4-062707ea3baa",
   "metadata": {},
   "outputs": [
    {
     "data": {
      "text/plain": [
       "product:\n",
       "MAXIMIZE\n",
       "4*_製品1 + 6*_製品2 + 0\n",
       "SUBJECT TO\n",
       "_C1: _製品1 + 2 _製品2 <= 8\n",
       "\n",
       "_C2: 3 _製品1 <= 12\n",
       "\n",
       "_C3: 4 _製品2 <= 12\n",
       "\n",
       "VARIABLES\n",
       "_製品1 free Integer\n",
       "_製品2 free Integer"
      ]
     },
     "execution_count": 7,
     "metadata": {},
     "output_type": "execute_result"
    }
   ],
   "source": [
    "for m in materials:\n",
    "    problem += pulp.lpSum([table[p] * df[p][m] for p in table.keys()]) <= df[\"使用可能量\"][m]\n",
    "problem"
   ]
  },
  {
   "cell_type": "code",
   "execution_count": 8,
   "id": "8d047dc9-8513-40d3-8d77-499c883a67bc",
   "metadata": {},
   "outputs": [
    {
     "name": "stdout",
     "output_type": "stream",
     "text": [
      "Status Optimal\n"
     ]
    }
   ],
   "source": [
    "status = problem.solve(pulp.PULP_CBC_CMD(msg=0))\n",
    "print(\"Status\", pulp.LpStatus[status])"
   ]
  },
  {
   "cell_type": "code",
   "execution_count": 9,
   "id": "630a3340-e349-4c7e-b5de-db7d0d202da9",
   "metadata": {},
   "outputs": [
    {
     "name": "stdout",
     "output_type": "stream",
     "text": [
      "=== Result =============================\n",
      "利益: 28.0\n",
      "----------------------------------------\n",
      "生産量内訳\n",
      "4.0\n",
      "2.0\n",
      "========================================\n"
     ]
    }
   ],
   "source": [
    "print(\"=\" * 3, \"Result\", \"=\" * 29)\n",
    "print('利益: {}'.format(pulp.value(problem.objective)))\n",
    "print(\"-\" * 40)\n",
    "print(\"生産量内訳\")\n",
    "for p in products:\n",
    "    print(table[p].value())\n",
    "print(\"=\" * 40)"
   ]
  }
 ],
 "metadata": {
  "kernelspec": {
   "display_name": "Python 3 (ipykernel)",
   "language": "python",
   "name": "python3"
  },
  "language_info": {
   "codemirror_mode": {
    "name": "ipython",
    "version": 3
   },
   "file_extension": ".py",
   "mimetype": "text/x-python",
   "name": "python",
   "nbconvert_exporter": "python",
   "pygments_lexer": "ipython3",
   "version": "3.10.2"
  }
 },
 "nbformat": 4,
 "nbformat_minor": 5
}

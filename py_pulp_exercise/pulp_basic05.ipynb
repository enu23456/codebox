{
 "cells": [
  {
   "cell_type": "markdown",
   "id": "4ccba838-7464-4cd0-8acb-69d5fad0b56d",
   "metadata": {},
   "source": [
    "## Problem\n",
    "\n",
    "CCC動物園ではコアラを飼育していますが、近頃ぐうたらし過ぎて太ってしまいました。そこで、ダイエットのために糖質制限をかけて餌を与えることにします。主食のユーカリには糖質の他にも食物繊維、ミネラル、毒素が含まれていますが、ミネラル以外のものは取りすぎるとよくないので、こちらも摂取制限をかけます。\n",
    "成分構成の異なる二つのユーカリをうまく食べ合わせて、なるべく多くのミネラルを摂取するにはどうすればいいでしょうか。\n",
    "Q\n",
    "|     成分 | ユーカリA | ユーカリB | 摂取上限 |\n",
    "|       -  |         - |         - |        - |\n",
    "|     糖質 |        10 |      15   |     6000 |\n",
    "| 食物繊維 |        15 |      10   |     6000 |\n",
    "|     毒素 |       2.5 |       0.5 |      900 |\n",
    "| ミネラル |       0.4 |       0.5 |   最大化 |\n",
    "\n",
    "(https://www.chuo-computer.co.jp/archives/12101)"
   ]
  },
  {
   "cell_type": "code",
   "execution_count": 1,
   "id": "ed05c1a8-1f37-4310-8454-f90f1b24ca7f",
   "metadata": {},
   "outputs": [],
   "source": [
    "import pulp\n",
    "import pandas as pd"
   ]
  },
  {
   "cell_type": "code",
   "execution_count": 2,
   "id": "310c897d-bbb2-467a-8432-1f327468e470",
   "metadata": {},
   "outputs": [
    {
     "data": {
      "text/html": [
       "<div>\n",
       "<style scoped>\n",
       "    .dataframe tbody tr th:only-of-type {\n",
       "        vertical-align: middle;\n",
       "    }\n",
       "\n",
       "    .dataframe tbody tr th {\n",
       "        vertical-align: top;\n",
       "    }\n",
       "\n",
       "    .dataframe thead th {\n",
       "        text-align: right;\n",
       "    }\n",
       "</style>\n",
       "<table border=\"1\" class=\"dataframe\">\n",
       "  <thead>\n",
       "    <tr style=\"text-align: right;\">\n",
       "      <th></th>\n",
       "      <th>ユーカリA</th>\n",
       "      <th>ユーカリB</th>\n",
       "      <th>接種上限</th>\n",
       "    </tr>\n",
       "  </thead>\n",
       "  <tbody>\n",
       "    <tr>\n",
       "      <th>糖質</th>\n",
       "      <td>10.0</td>\n",
       "      <td>15.0</td>\n",
       "      <td>6000</td>\n",
       "    </tr>\n",
       "    <tr>\n",
       "      <th>食物繊維</th>\n",
       "      <td>15.0</td>\n",
       "      <td>10.0</td>\n",
       "      <td>6000</td>\n",
       "    </tr>\n",
       "    <tr>\n",
       "      <th>毒素</th>\n",
       "      <td>2.5</td>\n",
       "      <td>0.5</td>\n",
       "      <td>900</td>\n",
       "    </tr>\n",
       "    <tr>\n",
       "      <th>ミネラル</th>\n",
       "      <td>0.4</td>\n",
       "      <td>0.5</td>\n",
       "      <td>最大化</td>\n",
       "    </tr>\n",
       "  </tbody>\n",
       "</table>\n",
       "</div>"
      ],
      "text/plain": [
       "      ユーカリA  ユーカリB  接種上限\n",
       "糖質     10.0   15.0  6000\n",
       "食物繊維   15.0   10.0  6000\n",
       "毒素      2.5    0.5   900\n",
       "ミネラル    0.4    0.5   最大化"
      ]
     },
     "execution_count": 2,
     "metadata": {},
     "output_type": "execute_result"
    }
   ],
   "source": [
    "df = pd.DataFrame(\n",
    "columns=[\"ユーカリA\", \"ユーカリB\", \"接種上限\"],\n",
    "index=[\"糖質\", \"食物繊維\", \"毒素\", \"ミネラル\"],\n",
    "data=[\n",
    "    [10, 15, 6000],\n",
    "    [15, 10, 6000],\n",
    "    [2.5, 0.5, 900],\n",
    "    [0.4, 0.5, \"最大化\"],\n",
    "     ]\n",
    ")\n",
    "df"
   ]
  },
  {
   "cell_type": "code",
   "execution_count": 3,
   "id": "3566e27e-41fd-467b-8ecf-1a2109a0864b",
   "metadata": {},
   "outputs": [
    {
     "data": {
      "text/plain": [
       "diet:\n",
       "MAXIMIZE\n",
       "None\n",
       "VARIABLES"
      ]
     },
     "execution_count": 3,
     "metadata": {},
     "output_type": "execute_result"
    }
   ],
   "source": [
    "problem = pulp.LpProblem(name=\"diet\", sense=pulp.LpMaximize)\n",
    "problem"
   ]
  },
  {
   "cell_type": "code",
   "execution_count": 4,
   "id": "c1a0d609-a4fe-4ad6-89a4-39ed7db46f4d",
   "metadata": {},
   "outputs": [
    {
     "name": "stdout",
     "output_type": "stream",
     "text": [
      "['ユーカリA', 'ユーカリB'] ['糖質', '食物繊維', '毒素', 'ミネラル']\n"
     ]
    }
   ],
   "source": [
    "foods = df.columns[:-1].values.tolist()\n",
    "components = df.index[:].values.tolist()\n",
    "print(foods, components)"
   ]
  },
  {
   "cell_type": "code",
   "execution_count": 5,
   "id": "298b33f7-1bb7-413f-a315-6a9b456f18ea",
   "metadata": {},
   "outputs": [
    {
     "data": {
      "text/plain": [
       "{'ユーカリA': _ユーカリA, 'ユーカリB': _ユーカリB}"
      ]
     },
     "execution_count": 5,
     "metadata": {},
     "output_type": "execute_result"
    }
   ],
   "source": [
    "table = pulp.LpVariable.dict(\"\", (foods), lowBound=0, cat=pulp.LpContinuous)\n",
    "table"
   ]
  },
  {
   "cell_type": "code",
   "execution_count": 6,
   "id": "7c4f8726-0051-4b6e-bb11-8c83cc12e746",
   "metadata": {},
   "outputs": [
    {
     "data": {
      "text/plain": [
       "diet:\n",
       "MAXIMIZE\n",
       "0.4*_ユーカリA + 0.5*_ユーカリB + 0.0\n",
       "VARIABLES\n",
       "_ユーカリA Continuous\n",
       "_ユーカリB Continuous"
      ]
     },
     "execution_count": 6,
     "metadata": {},
     "output_type": "execute_result"
    }
   ],
   "source": [
    "problem += pulp.lpSum([table[f] * df[f][\"ミネラル\"] for f in table.keys()])\n",
    "problem"
   ]
  },
  {
   "cell_type": "code",
   "execution_count": 7,
   "id": "f8705b62-d35c-45f4-8a41-6a7667158d70",
   "metadata": {},
   "outputs": [
    {
     "data": {
      "text/plain": [
       "diet:\n",
       "MAXIMIZE\n",
       "0.4*_ユーカリA + 0.5*_ユーカリB + 0.0\n",
       "SUBJECT TO\n",
       "_C1: 10 _ユーカリA + 15 _ユーカリB <= 6000\n",
       "\n",
       "_C2: 15 _ユーカリA + 10 _ユーカリB <= 6000\n",
       "\n",
       "_C3: 2.5 _ユーカリA + 0.5 _ユーカリB <= 900\n",
       "\n",
       "VARIABLES\n",
       "_ユーカリA Continuous\n",
       "_ユーカリB Continuous"
      ]
     },
     "execution_count": 7,
     "metadata": {},
     "output_type": "execute_result"
    }
   ],
   "source": [
    "for c in components[:-1]:\n",
    "    problem += pulp.lpSum([table[f] * df[f][c] for f in table.keys()]) <= df[\"接種上限\"][c]\n",
    "problem"
   ]
  },
  {
   "cell_type": "code",
   "execution_count": 8,
   "id": "c795765f-107c-4fd4-ad69-d7853c763081",
   "metadata": {},
   "outputs": [
    {
     "name": "stdout",
     "output_type": "stream",
     "text": [
      "Status Optimal\n"
     ]
    }
   ],
   "source": [
    "status = problem.solve(pulp.PULP_CBC_CMD(msg=0))\n",
    "print(\"Status\", pulp.LpStatus[status])"
   ]
  },
  {
   "cell_type": "code",
   "execution_count": 9,
   "id": "1a13ccd7-4b94-4d4b-b494-3d26cdb0aea0",
   "metadata": {},
   "outputs": [
    {
     "name": "stdout",
     "output_type": "stream",
     "text": [
      "=== Result =============================\n",
      "ミネラル: 216.0\n",
      "----------------------------------------\n",
      "240.0\n",
      "240.0\n",
      "========================================\n"
     ]
    }
   ],
   "source": [
    "print(\"=\" * 3, \"Result\", \"=\" * 29)\n",
    "print('ミネラル: {}'.format(pulp.value(problem.objective)))\n",
    "print(\"-\" * 40)\n",
    "for f in foods:\n",
    "    print(table[f].value())\n",
    "print(\"=\" * 40)"
   ]
  }
 ],
 "metadata": {
  "kernelspec": {
   "display_name": "Python 3 (ipykernel)",
   "language": "python",
   "name": "python3"
  },
  "language_info": {
   "codemirror_mode": {
    "name": "ipython",
    "version": 3
   },
   "file_extension": ".py",
   "mimetype": "text/x-python",
   "name": "python",
   "nbconvert_exporter": "python",
   "pygments_lexer": "ipython3",
   "version": "3.10.2"
  }
 },
 "nbformat": 4,
 "nbformat_minor": 5
}

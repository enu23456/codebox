{
 "cells": [
  {
   "cell_type": "markdown",
   "id": "56ec4c37-09d0-4e91-a392-9693bdb53e10",
   "metadata": {},
   "source": [
    "## Problem\n",
    "\n",
    "4 人で 8 個の荷物を運びます。\n",
    "\n",
    "各荷物の重さは 3.3 kg, 6.1 kg, 5.8 kg, 4.1 kg, 5.0 kg, 2.1 kg, 6.0 kg, 6.4 kg です。\n",
    "\n",
    "各自の運ぶ荷物の重さの合計が 11 kg 以下になるように荷物を割り当てることはできるでしょうか。\n",
    "\n",
    "できる場合はその割り当て方を求めてください。\n",
    "\n",
    "(http://www.nct9.ne.jp/m_hiroi/light/pulp02.html)"
   ]
  },
  {
   "cell_type": "code",
   "execution_count": 1,
   "id": "b877c042-3004-480f-91f1-bc73f89dac10",
   "metadata": {},
   "outputs": [],
   "source": [
    "import pulp"
   ]
  },
  {
   "cell_type": "code",
   "execution_count": 2,
   "id": "fefe0ed2-3f63-42d2-a617-525688502c44",
   "metadata": {},
   "outputs": [],
   "source": [
    "people = [\"Alice\", \"Bob\", \"Carol\", \"Dave\"]\n",
    "weights = [3.3, 6.1, 5.8, 4.1, 5.0, 2.1, 6.0, 6.4]"
   ]
  },
  {
   "cell_type": "code",
   "execution_count": 3,
   "id": "ea135509-16bc-4cb3-b90c-599560579414",
   "metadata": {},
   "outputs": [],
   "source": [
    "problem = pulp.LpProblem(name=\"binpacking\")"
   ]
  },
  {
   "cell_type": "code",
   "execution_count": 4,
   "id": "bba6161c-1880-43f9-b49a-59c834424b7f",
   "metadata": {},
   "outputs": [
    {
     "data": {
      "text/plain": [
       "{'Alice': {0: _Alice_0,\n",
       "  1: _Alice_1,\n",
       "  2: _Alice_2,\n",
       "  3: _Alice_3,\n",
       "  4: _Alice_4,\n",
       "  5: _Alice_5,\n",
       "  6: _Alice_6,\n",
       "  7: _Alice_7},\n",
       " 'Bob': {0: _Bob_0,\n",
       "  1: _Bob_1,\n",
       "  2: _Bob_2,\n",
       "  3: _Bob_3,\n",
       "  4: _Bob_4,\n",
       "  5: _Bob_5,\n",
       "  6: _Bob_6,\n",
       "  7: _Bob_7},\n",
       " 'Carol': {0: _Carol_0,\n",
       "  1: _Carol_1,\n",
       "  2: _Carol_2,\n",
       "  3: _Carol_3,\n",
       "  4: _Carol_4,\n",
       "  5: _Carol_5,\n",
       "  6: _Carol_6,\n",
       "  7: _Carol_7},\n",
       " 'Dave': {0: _Dave_0,\n",
       "  1: _Dave_1,\n",
       "  2: _Dave_2,\n",
       "  3: _Dave_3,\n",
       "  4: _Dave_4,\n",
       "  5: _Dave_5,\n",
       "  6: _Dave_6,\n",
       "  7: _Dave_7}}"
      ]
     },
     "execution_count": 4,
     "metadata": {},
     "output_type": "execute_result"
    }
   ],
   "source": [
    "table = pulp.LpVariable.dicts(\"\", (people, range(len(weights))), cat=pulp.LpBinary)\n",
    "table"
   ]
  },
  {
   "cell_type": "code",
   "execution_count": 5,
   "id": "7d50f7e1-5618-4288-8ba7-db656016e0df",
   "metadata": {},
   "outputs": [
    {
     "data": {
      "text/plain": [
       "binpacking:\n",
       "MINIMIZE\n",
       "None\n",
       "SUBJECT TO\n",
       "_C1: 3.3 _Alice_0 + 6.1 _Alice_1 + 5.8 _Alice_2 + 4.1 _Alice_3 + 5 _Alice_4\n",
       " + 2.1 _Alice_5 + 6 _Alice_6 + 6.4 _Alice_7 <= 11\n",
       "\n",
       "_C2: 3.3 _Bob_0 + 6.1 _Bob_1 + 5.8 _Bob_2 + 4.1 _Bob_3 + 5 _Bob_4 + 2.1 _Bob_5\n",
       " + 6 _Bob_6 + 6.4 _Bob_7 <= 11\n",
       "\n",
       "_C3: 3.3 _Carol_0 + 6.1 _Carol_1 + 5.8 _Carol_2 + 4.1 _Carol_3 + 5 _Carol_4\n",
       " + 2.1 _Carol_5 + 6 _Carol_6 + 6.4 _Carol_7 <= 11\n",
       "\n",
       "_C4: 3.3 _Dave_0 + 6.1 _Dave_1 + 5.8 _Dave_2 + 4.1 _Dave_3 + 5 _Dave_4\n",
       " + 2.1 _Dave_5 + 6 _Dave_6 + 6.4 _Dave_7 <= 11\n",
       "\n",
       "VARIABLES\n",
       "0 <= _Alice_0 <= 1 Integer\n",
       "0 <= _Alice_1 <= 1 Integer\n",
       "0 <= _Alice_2 <= 1 Integer\n",
       "0 <= _Alice_3 <= 1 Integer\n",
       "0 <= _Alice_4 <= 1 Integer\n",
       "0 <= _Alice_5 <= 1 Integer\n",
       "0 <= _Alice_6 <= 1 Integer\n",
       "0 <= _Alice_7 <= 1 Integer\n",
       "0 <= _Bob_0 <= 1 Integer\n",
       "0 <= _Bob_1 <= 1 Integer\n",
       "0 <= _Bob_2 <= 1 Integer\n",
       "0 <= _Bob_3 <= 1 Integer\n",
       "0 <= _Bob_4 <= 1 Integer\n",
       "0 <= _Bob_5 <= 1 Integer\n",
       "0 <= _Bob_6 <= 1 Integer\n",
       "0 <= _Bob_7 <= 1 Integer\n",
       "0 <= _Carol_0 <= 1 Integer\n",
       "0 <= _Carol_1 <= 1 Integer\n",
       "0 <= _Carol_2 <= 1 Integer\n",
       "0 <= _Carol_3 <= 1 Integer\n",
       "0 <= _Carol_4 <= 1 Integer\n",
       "0 <= _Carol_5 <= 1 Integer\n",
       "0 <= _Carol_6 <= 1 Integer\n",
       "0 <= _Carol_7 <= 1 Integer\n",
       "0 <= _Dave_0 <= 1 Integer\n",
       "0 <= _Dave_1 <= 1 Integer\n",
       "0 <= _Dave_2 <= 1 Integer\n",
       "0 <= _Dave_3 <= 1 Integer\n",
       "0 <= _Dave_4 <= 1 Integer\n",
       "0 <= _Dave_5 <= 1 Integer\n",
       "0 <= _Dave_6 <= 1 Integer\n",
       "0 <= _Dave_7 <= 1 Integer"
      ]
     },
     "execution_count": 5,
     "metadata": {},
     "output_type": "execute_result"
    }
   ],
   "source": [
    "for p in people:\n",
    "    problem += pulp.lpSum([table[p][w] * weights[w] for w in range(len(weights))]) <= 11.0\n",
    "problem"
   ]
  },
  {
   "cell_type": "code",
   "execution_count": 6,
   "id": "329d2559-ebe8-43d4-9c85-a53bb537032f",
   "metadata": {},
   "outputs": [
    {
     "data": {
      "text/plain": [
       "binpacking:\n",
       "MINIMIZE\n",
       "None\n",
       "SUBJECT TO\n",
       "_C1: 3.3 _Alice_0 + 6.1 _Alice_1 + 5.8 _Alice_2 + 4.1 _Alice_3 + 5 _Alice_4\n",
       " + 2.1 _Alice_5 + 6 _Alice_6 + 6.4 _Alice_7 <= 11\n",
       "\n",
       "_C2: 3.3 _Bob_0 + 6.1 _Bob_1 + 5.8 _Bob_2 + 4.1 _Bob_3 + 5 _Bob_4 + 2.1 _Bob_5\n",
       " + 6 _Bob_6 + 6.4 _Bob_7 <= 11\n",
       "\n",
       "_C3: 3.3 _Carol_0 + 6.1 _Carol_1 + 5.8 _Carol_2 + 4.1 _Carol_3 + 5 _Carol_4\n",
       " + 2.1 _Carol_5 + 6 _Carol_6 + 6.4 _Carol_7 <= 11\n",
       "\n",
       "_C4: 3.3 _Dave_0 + 6.1 _Dave_1 + 5.8 _Dave_2 + 4.1 _Dave_3 + 5 _Dave_4\n",
       " + 2.1 _Dave_5 + 6 _Dave_6 + 6.4 _Dave_7 <= 11\n",
       "\n",
       "_C5: _Alice_0 + _Bob_0 + _Carol_0 + _Dave_0 = 1\n",
       "\n",
       "_C6: _Alice_1 + _Bob_1 + _Carol_1 + _Dave_1 = 1\n",
       "\n",
       "_C7: _Alice_2 + _Bob_2 + _Carol_2 + _Dave_2 = 1\n",
       "\n",
       "_C8: _Alice_3 + _Bob_3 + _Carol_3 + _Dave_3 = 1\n",
       "\n",
       "_C9: _Alice_4 + _Bob_4 + _Carol_4 + _Dave_4 = 1\n",
       "\n",
       "_C10: _Alice_5 + _Bob_5 + _Carol_5 + _Dave_5 = 1\n",
       "\n",
       "_C11: _Alice_6 + _Bob_6 + _Carol_6 + _Dave_6 = 1\n",
       "\n",
       "_C12: _Alice_7 + _Bob_7 + _Carol_7 + _Dave_7 = 1\n",
       "\n",
       "VARIABLES\n",
       "0 <= _Alice_0 <= 1 Integer\n",
       "0 <= _Alice_1 <= 1 Integer\n",
       "0 <= _Alice_2 <= 1 Integer\n",
       "0 <= _Alice_3 <= 1 Integer\n",
       "0 <= _Alice_4 <= 1 Integer\n",
       "0 <= _Alice_5 <= 1 Integer\n",
       "0 <= _Alice_6 <= 1 Integer\n",
       "0 <= _Alice_7 <= 1 Integer\n",
       "0 <= _Bob_0 <= 1 Integer\n",
       "0 <= _Bob_1 <= 1 Integer\n",
       "0 <= _Bob_2 <= 1 Integer\n",
       "0 <= _Bob_3 <= 1 Integer\n",
       "0 <= _Bob_4 <= 1 Integer\n",
       "0 <= _Bob_5 <= 1 Integer\n",
       "0 <= _Bob_6 <= 1 Integer\n",
       "0 <= _Bob_7 <= 1 Integer\n",
       "0 <= _Carol_0 <= 1 Integer\n",
       "0 <= _Carol_1 <= 1 Integer\n",
       "0 <= _Carol_2 <= 1 Integer\n",
       "0 <= _Carol_3 <= 1 Integer\n",
       "0 <= _Carol_4 <= 1 Integer\n",
       "0 <= _Carol_5 <= 1 Integer\n",
       "0 <= _Carol_6 <= 1 Integer\n",
       "0 <= _Carol_7 <= 1 Integer\n",
       "0 <= _Dave_0 <= 1 Integer\n",
       "0 <= _Dave_1 <= 1 Integer\n",
       "0 <= _Dave_2 <= 1 Integer\n",
       "0 <= _Dave_3 <= 1 Integer\n",
       "0 <= _Dave_4 <= 1 Integer\n",
       "0 <= _Dave_5 <= 1 Integer\n",
       "0 <= _Dave_6 <= 1 Integer\n",
       "0 <= _Dave_7 <= 1 Integer"
      ]
     },
     "execution_count": 6,
     "metadata": {},
     "output_type": "execute_result"
    }
   ],
   "source": [
    "for w in range(len(weights)):\n",
    "    problem += pulp.lpSum([table[p][w] for p in people]) == 1\n",
    "problem"
   ]
  },
  {
   "cell_type": "code",
   "execution_count": 7,
   "id": "d2586c76-df1c-4192-9915-6d4b1f710513",
   "metadata": {},
   "outputs": [
    {
     "name": "stdout",
     "output_type": "stream",
     "text": [
      "Status Optimal\n"
     ]
    }
   ],
   "source": [
    "status = problem.solve(pulp.PULP_CBC_CMD(msg=0))\n",
    "print(\"Status\", pulp.LpStatus[status])"
   ]
  },
  {
   "cell_type": "code",
   "execution_count": 8,
   "id": "65171ccb-7c75-47d5-b0fe-c187fe4fc62e",
   "metadata": {},
   "outputs": [
    {
     "name": "stdout",
     "output_type": "stream",
     "text": [
      "=== Assignment =========================\n",
      "Weight [3.3, 6.1, 5.8, 4.1, 5.0, 2.1, 6.0, 6.4]\n",
      "----------------------------------------\n",
      " Alice [1.0, 0.0, 0.0, 0.0, 0.0, 0.0, 1.0, 0.0]\n",
      "   Bob [0.0, 0.0, 0.0, 0.0, 0.0, 1.0, 0.0, 1.0]\n",
      " Carol [0.0, 0.0, 1.0, 0.0, 1.0, 0.0, 0.0, 0.0]\n",
      "  Dave [0.0, 1.0, 0.0, 1.0, 0.0, 0.0, 0.0, 0.0]\n",
      "========================================\n"
     ]
    }
   ],
   "source": [
    "print(\"=\" * 3, \"Assignment\", \"=\" * 25)\n",
    "print(\"Weight\", weights)\n",
    "print(\"-\" * 40)\n",
    "for p in people:\n",
    "    print(p.rjust(6), [table[p][w].value() for w in range(len(weights))])\n",
    "print(\"=\" * 40)"
   ]
  }
 ],
 "metadata": {
  "kernelspec": {
   "display_name": "Python 3 (ipykernel)",
   "language": "python",
   "name": "python3"
  },
  "language_info": {
   "codemirror_mode": {
    "name": "ipython",
    "version": 3
   },
   "file_extension": ".py",
   "mimetype": "text/x-python",
   "name": "python",
   "nbconvert_exporter": "python",
   "pygments_lexer": "ipython3",
   "version": "3.10.2"
  }
 },
 "nbformat": 4,
 "nbformat_minor": 5
}

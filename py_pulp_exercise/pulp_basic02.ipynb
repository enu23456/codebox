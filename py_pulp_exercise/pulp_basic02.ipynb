{
 "cells": [
  {
   "cell_type": "markdown",
   "id": "770d5be2-c613-4321-8faf-cf90efe2b1c2",
   "metadata": {},
   "source": [
    "## Problem\n",
    "\n",
    "4 つの原料 (w, x, y, z) を使って 4 つの製品 (a, b, c, d) を生産します。\n",
    "\n",
    "製品 1 kg を作るのに必要な原材料、一日に使用できる原料の量 (kg)、製品の利益 (万円) が下表のように定義されています。\n",
    "\n",
    "一日の利益が最大となるように、各製品の生産量を決めてください。\n",
    "\n",
    "|        | 原料w | 原料x | 原料y | 原料z | 利益 |\n",
    "|     -  |     - |     - |     - |     - |    - |\n",
    "| 製品A  |     2 |     1 |     0 |     0 |    5 |\n",
    "| 製品B  |     0 |     2 |     1 |     0 |    3 |\n",
    "| 製品C  |     0 |     0 |     1 |     2 |    2 |\n",
    "| 製品D  |     1 |     0 |     0 |     2 |    4 |\n",
    "| 使用量 |     4 |     8 |     6 |    10 |      |\n",
    "\n",
    "(http://www.nct9.ne.jp/m_hiroi/light/pulp01.html#chap03)"
   ]
  },
  {
   "cell_type": "code",
   "execution_count": 1,
   "id": "e16c3bac-3c81-4bca-9794-8c30254be997",
   "metadata": {},
   "outputs": [],
   "source": [
    "import pulp\n",
    "import pandas as pd"
   ]
  },
  {
   "cell_type": "code",
   "execution_count": 2,
   "id": "7518a721-bdd1-4670-9307-dcd7bdd6dc6f",
   "metadata": {},
   "outputs": [
    {
     "data": {
      "text/html": [
       "<div>\n",
       "<style scoped>\n",
       "    .dataframe tbody tr th:only-of-type {\n",
       "        vertical-align: middle;\n",
       "    }\n",
       "\n",
       "    .dataframe tbody tr th {\n",
       "        vertical-align: top;\n",
       "    }\n",
       "\n",
       "    .dataframe thead th {\n",
       "        text-align: right;\n",
       "    }\n",
       "</style>\n",
       "<table border=\"1\" class=\"dataframe\">\n",
       "  <thead>\n",
       "    <tr style=\"text-align: right;\">\n",
       "      <th></th>\n",
       "      <th>原料w</th>\n",
       "      <th>原料x</th>\n",
       "      <th>原料y</th>\n",
       "      <th>原料z</th>\n",
       "      <th>利益</th>\n",
       "    </tr>\n",
       "  </thead>\n",
       "  <tbody>\n",
       "    <tr>\n",
       "      <th>製品A</th>\n",
       "      <td>2</td>\n",
       "      <td>1</td>\n",
       "      <td>0</td>\n",
       "      <td>0</td>\n",
       "      <td>5.0</td>\n",
       "    </tr>\n",
       "    <tr>\n",
       "      <th>製品B</th>\n",
       "      <td>0</td>\n",
       "      <td>2</td>\n",
       "      <td>1</td>\n",
       "      <td>0</td>\n",
       "      <td>3.0</td>\n",
       "    </tr>\n",
       "    <tr>\n",
       "      <th>製品C</th>\n",
       "      <td>0</td>\n",
       "      <td>0</td>\n",
       "      <td>1</td>\n",
       "      <td>2</td>\n",
       "      <td>2.0</td>\n",
       "    </tr>\n",
       "    <tr>\n",
       "      <th>製品D</th>\n",
       "      <td>1</td>\n",
       "      <td>0</td>\n",
       "      <td>0</td>\n",
       "      <td>2</td>\n",
       "      <td>4.0</td>\n",
       "    </tr>\n",
       "    <tr>\n",
       "      <th>使用量</th>\n",
       "      <td>4</td>\n",
       "      <td>8</td>\n",
       "      <td>6</td>\n",
       "      <td>10</td>\n",
       "      <td>NaN</td>\n",
       "    </tr>\n",
       "  </tbody>\n",
       "</table>\n",
       "</div>"
      ],
      "text/plain": [
       "     原料w  原料x  原料y  原料z   利益\n",
       "製品A    2    1    0    0  5.0\n",
       "製品B    0    2    1    0  3.0\n",
       "製品C    0    0    1    2  2.0\n",
       "製品D    1    0    0    2  4.0\n",
       "使用量    4    8    6   10  NaN"
      ]
     },
     "execution_count": 2,
     "metadata": {},
     "output_type": "execute_result"
    }
   ],
   "source": [
    "df = pd.DataFrame(\n",
    "    columns=[\"原料w\", \"原料x\", \"原料y\", \"原料z\", \"利益\"],\n",
    "    index=[\"製品A\", \"製品B\", \"製品C\", \"製品D\", \"使用量\"],\n",
    "    data=[\n",
    "        [2, 1, 0, 0, 5],\n",
    "        [0, 2, 1, 0, 3],\n",
    "        [0, 0, 1, 2, 2],\n",
    "        [1, 0, 0, 2, 4],\n",
    "        [4, 8, 6, 10],\n",
    "        ]\n",
    "    )\n",
    "df"
   ]
  },
  {
   "cell_type": "code",
   "execution_count": 3,
   "id": "be1f1f54-749b-4a7e-a09b-6c66bb8dddd2",
   "metadata": {},
   "outputs": [
    {
     "data": {
      "text/plain": [
       "production_planning:\n",
       "MAXIMIZE\n",
       "None\n",
       "VARIABLES"
      ]
     },
     "execution_count": 3,
     "metadata": {},
     "output_type": "execute_result"
    }
   ],
   "source": [
    "problem = pulp.LpProblem(name=\"production_planning\", sense=pulp.LpMaximize)\n",
    "problem"
   ]
  },
  {
   "cell_type": "code",
   "execution_count": 4,
   "id": "8dac6db5-1925-4f68-af55-e035ef2a5b3f",
   "metadata": {},
   "outputs": [
    {
     "data": {
      "text/plain": [
       "{'製品A': _製品A, '製品B': _製品B, '製品C': _製品C, '製品D': _製品D}"
      ]
     },
     "execution_count": 4,
     "metadata": {},
     "output_type": "execute_result"
    }
   ],
   "source": [
    "products = pulp.LpVariable.dicts(\"\", df.index[:-1], lowBound=0, cat=pulp.LpInteger)\n",
    "products"
   ]
  },
  {
   "cell_type": "code",
   "execution_count": 5,
   "id": "97cab952-6673-4580-b8ed-cb613c4e1760",
   "metadata": {},
   "outputs": [
    {
     "data": {
      "text/plain": [
       "production_planning:\n",
       "MAXIMIZE\n",
       "5.0*_製品A + 3.0*_製品B + 2.0*_製品C + 4.0*_製品D + 0.0\n",
       "VARIABLES\n",
       "0 <= _製品A Integer\n",
       "0 <= _製品B Integer\n",
       "0 <= _製品C Integer\n",
       "0 <= _製品D Integer"
      ]
     },
     "execution_count": 5,
     "metadata": {},
     "output_type": "execute_result"
    }
   ],
   "source": [
    "problem += pulp.lpSum([products[i] * df[\"利益\"][i] for i in products.keys()])\n",
    "problem"
   ]
  },
  {
   "cell_type": "code",
   "execution_count": 6,
   "id": "ad130d59-8bd3-4e1e-96cd-7f88d97e9305",
   "metadata": {},
   "outputs": [
    {
     "data": {
      "text/plain": [
       "production_planning:\n",
       "MAXIMIZE\n",
       "5.0*_製品A + 3.0*_製品B + 2.0*_製品C + 4.0*_製品D + 0.0\n",
       "SUBJECT TO\n",
       "_C1: 2 _製品A + _製品D <= 4\n",
       "\n",
       "_C2: _製品A + 2 _製品B <= 8\n",
       "\n",
       "_C3: _製品B + _製品C <= 6\n",
       "\n",
       "_C4: 2 _製品C + 2 _製品D <= 10\n",
       "\n",
       "VARIABLES\n",
       "0 <= _製品A Integer\n",
       "0 <= _製品B Integer\n",
       "0 <= _製品C Integer\n",
       "0 <= _製品D Integer"
      ]
     },
     "execution_count": 6,
     "metadata": {},
     "output_type": "execute_result"
    }
   ],
   "source": [
    "for j in df.columns[:-1]:\n",
    "    problem += pulp.lpSum([products[i] * df[j][i] for i in products.keys()]) <= df[j][\"使用量\"]\n",
    "problem"
   ]
  },
  {
   "cell_type": "code",
   "execution_count": 7,
   "id": "5273ca0f-f0b9-4502-be18-ac6b3c8cbd4f",
   "metadata": {},
   "outputs": [
    {
     "name": "stdout",
     "output_type": "stream",
     "text": [
      "Status Optimal\n"
     ]
    }
   ],
   "source": [
    "result = problem.solve()\n",
    "print(\"Status\", pulp.LpStatus[result])"
   ]
  },
  {
   "cell_type": "code",
   "execution_count": 8,
   "id": "bbb223df-81a7-4cd5-9d84-a84fe2aa4b55",
   "metadata": {},
   "outputs": [
    {
     "name": "stdout",
     "output_type": "stream",
     "text": [
      "=== Result =============================\n",
      "製品A : 0.0\n",
      "製品B : 4.0\n",
      "製品C : 1.0\n",
      "製品D : 4.0\n",
      "総利益: 30.0\n",
      "========================================\n"
     ]
    }
   ],
   "source": [
    "print(\"=\" * 3, \"Result\", \"=\" * 29)\n",
    "[print(i, \":\", products[i].value() ) for i in products.keys()]\n",
    "print('総利益: {}'.format(pulp.value(problem.objective)))\n",
    "print(\"=\" * 40)"
   ]
  }
 ],
 "metadata": {
  "kernelspec": {
   "display_name": "Python 3 (ipykernel)",
   "language": "python",
   "name": "python3"
  },
  "language_info": {
   "codemirror_mode": {
    "name": "ipython",
    "version": 3
   },
   "file_extension": ".py",
   "mimetype": "text/x-python",
   "name": "python",
   "nbconvert_exporter": "python",
   "pygments_lexer": "ipython3",
   "version": "3.10.2"
  }
 },
 "nbformat": 4,
 "nbformat_minor": 5
}

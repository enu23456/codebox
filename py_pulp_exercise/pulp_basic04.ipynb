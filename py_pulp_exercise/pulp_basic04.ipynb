{
 "cells": [
  {
   "cell_type": "markdown",
   "id": "3c55dcfd-96c6-4c1e-94b7-96bf2259375c",
   "metadata": {},
   "source": [
    "## Problem\n",
    "\n",
    "ある工場で、鉄鋼、電力、労働力という３種類のリソースを使って、２種類の製品を生産しており、いま、来週の生産計画を立てようとしています。 \n",
    "\n",
    "製品単位当たりの生産に必要な各リソースの量、リソース許容上限は下表に示した通りです。\n",
    "\n",
    "利益が最大となるように、各製品の生産量を決めてください。\n",
    "\n",
    "|        | 製品1 | 製品2 | 上限 |\n",
    "|     -  |     - |     - |    - |\n",
    "|   鉄鋼 |     1 |     2 |   14 |\n",
    "|   電力 |     1 |     1 |    8 |\n",
    "| 労働力 |     3 |     1 |   18 |\n",
    "|   利益 |     2 |     3 |      |\n",
    "\n",
    "(http://www.morito.mgmt.waseda.ac.jp/koukyou2005/how2solver.pdf)\n"
   ]
  },
  {
   "cell_type": "code",
   "execution_count": 1,
   "id": "39a24c65-dabe-4a25-803d-26f40ba5ae10",
   "metadata": {},
   "outputs": [],
   "source": [
    "import pulp\n",
    "import pandas as pd"
   ]
  },
  {
   "cell_type": "code",
   "execution_count": 2,
   "id": "26117f23-b458-4627-a918-09d4c4073d3f",
   "metadata": {},
   "outputs": [
    {
     "data": {
      "text/html": [
       "<div>\n",
       "<style scoped>\n",
       "    .dataframe tbody tr th:only-of-type {\n",
       "        vertical-align: middle;\n",
       "    }\n",
       "\n",
       "    .dataframe tbody tr th {\n",
       "        vertical-align: top;\n",
       "    }\n",
       "\n",
       "    .dataframe thead th {\n",
       "        text-align: right;\n",
       "    }\n",
       "</style>\n",
       "<table border=\"1\" class=\"dataframe\">\n",
       "  <thead>\n",
       "    <tr style=\"text-align: right;\">\n",
       "      <th></th>\n",
       "      <th>製品1</th>\n",
       "      <th>製品2</th>\n",
       "      <th>上限</th>\n",
       "    </tr>\n",
       "  </thead>\n",
       "  <tbody>\n",
       "    <tr>\n",
       "      <th>鉄鋼</th>\n",
       "      <td>1</td>\n",
       "      <td>2</td>\n",
       "      <td>14.0</td>\n",
       "    </tr>\n",
       "    <tr>\n",
       "      <th>電力</th>\n",
       "      <td>1</td>\n",
       "      <td>1</td>\n",
       "      <td>8.0</td>\n",
       "    </tr>\n",
       "    <tr>\n",
       "      <th>労働力</th>\n",
       "      <td>3</td>\n",
       "      <td>1</td>\n",
       "      <td>18.0</td>\n",
       "    </tr>\n",
       "    <tr>\n",
       "      <th>利益</th>\n",
       "      <td>2</td>\n",
       "      <td>3</td>\n",
       "      <td>NaN</td>\n",
       "    </tr>\n",
       "  </tbody>\n",
       "</table>\n",
       "</div>"
      ],
      "text/plain": [
       "     製品1  製品2    上限\n",
       "鉄鋼     1    2  14.0\n",
       "電力     1    1   8.0\n",
       "労働力    3    1  18.0\n",
       "利益     2    3   NaN"
      ]
     },
     "execution_count": 2,
     "metadata": {},
     "output_type": "execute_result"
    }
   ],
   "source": [
    "df = pd.DataFrame(\n",
    "    columns=[\"製品1\", \"製品2\", \"上限\"],\n",
    "    index=[\"鉄鋼\", \"電力\", \"労働力\", \"利益\"],\n",
    "    data=[\n",
    "        [1, 2, 14],\n",
    "         [1, 1, 8],\n",
    "         [3, 1, 18],\n",
    "         [2, 3]\n",
    "    ]\n",
    ")\n",
    "df"
   ]
  },
  {
   "cell_type": "code",
   "execution_count": 3,
   "id": "a048e147-1cb0-4ac8-a61c-099b1de62980",
   "metadata": {},
   "outputs": [
    {
     "data": {
      "text/plain": [
       "production_planning:\n",
       "MAXIMIZE\n",
       "None\n",
       "VARIABLES"
      ]
     },
     "execution_count": 3,
     "metadata": {},
     "output_type": "execute_result"
    }
   ],
   "source": [
    "problem = pulp.LpProblem(name=\"production_planning\", sense=pulp.LpMaximize)\n",
    "problem"
   ]
  },
  {
   "cell_type": "code",
   "execution_count": 4,
   "id": "a8a85e0d-3c22-4cb9-a3cc-ec2833336cf1",
   "metadata": {},
   "outputs": [
    {
     "name": "stdout",
     "output_type": "stream",
     "text": [
      "['製品1', '製品2'] ['鉄鋼', '電力', '労働力']\n"
     ]
    },
    {
     "data": {
      "text/plain": [
       "{'製品1': _製品1, '製品2': _製品2}"
      ]
     },
     "execution_count": 4,
     "metadata": {},
     "output_type": "execute_result"
    }
   ],
   "source": [
    "products = df.columns[:-1].values.tolist()\n",
    "resource = df.index[:-1].values.tolist()\n",
    "print(products, resource)\n",
    "table = pulp.LpVariable.dicts(\"\", (products), cat=pulp.LpInteger, lowBound=0)\n",
    "table"
   ]
  },
  {
   "cell_type": "code",
   "execution_count": 5,
   "id": "b5f351a7-5c1d-422c-9c17-035c6afca02c",
   "metadata": {},
   "outputs": [
    {
     "data": {
      "text/plain": [
       "production_planning:\n",
       "MAXIMIZE\n",
       "2*_製品1 + 3*_製品2 + 0\n",
       "VARIABLES\n",
       "0 <= _製品1 Integer\n",
       "0 <= _製品2 Integer"
      ]
     },
     "execution_count": 5,
     "metadata": {},
     "output_type": "execute_result"
    }
   ],
   "source": [
    "problem += pulp.lpSum([df[p][\"利益\"] * table[p] for p in products])\n",
    "problem"
   ]
  },
  {
   "cell_type": "code",
   "execution_count": 6,
   "id": "133bb45e-1867-47fc-b3d4-ccf10a6f1fca",
   "metadata": {},
   "outputs": [
    {
     "data": {
      "text/plain": [
       "production_planning:\n",
       "MAXIMIZE\n",
       "2*_製品1 + 3*_製品2 + 0\n",
       "SUBJECT TO\n",
       "_C1: _製品1 + 2 _製品2 <= 14\n",
       "\n",
       "_C2: _製品1 + _製品2 <= 8\n",
       "\n",
       "_C3: 3 _製品1 + _製品2 <= 18\n",
       "\n",
       "VARIABLES\n",
       "0 <= _製品1 Integer\n",
       "0 <= _製品2 Integer"
      ]
     },
     "execution_count": 6,
     "metadata": {},
     "output_type": "execute_result"
    }
   ],
   "source": [
    "for r in resource:\n",
    "    problem += pulp.lpSum(df[p][r] * table[p] for p in table.keys()) <= df[\"上限\"][r]\n",
    "problem"
   ]
  },
  {
   "cell_type": "code",
   "execution_count": 7,
   "id": "078bbf1e-035f-4c4d-a3be-af5e9c6e873e",
   "metadata": {},
   "outputs": [
    {
     "name": "stdout",
     "output_type": "stream",
     "text": [
      "Status Optimal\n"
     ]
    }
   ],
   "source": [
    "status = problem.solve(pulp.PULP_CBC_CMD(msg=0))\n",
    "print(\"Status\", pulp.LpStatus[status])"
   ]
  },
  {
   "cell_type": "code",
   "execution_count": 8,
   "id": "df9945bf-8c27-459f-a413-333eda91e7bb",
   "metadata": {},
   "outputs": [
    {
     "name": "stdout",
     "output_type": "stream",
     "text": [
      "=== Result =============================\n",
      "利益: 22.0\n",
      "----------------------------------------\n",
      "生産量内訳\n",
      "2.0\n",
      "6.0\n",
      "========================================\n"
     ]
    }
   ],
   "source": [
    "print(\"=\" * 3, \"Result\", \"=\" * 29)\n",
    "print('利益: {}'.format(pulp.value(problem.objective)))\n",
    "print(\"-\" * 40)\n",
    "print(\"生産量内訳\")\n",
    "for p in products:\n",
    "    print(table[p].value())\n",
    "print(\"=\" * 40)"
   ]
  }
 ],
 "metadata": {
  "kernelspec": {
   "display_name": "Python 3 (ipykernel)",
   "language": "python",
   "name": "python3"
  },
  "language_info": {
   "codemirror_mode": {
    "name": "ipython",
    "version": 3
   },
   "file_extension": ".py",
   "mimetype": "text/x-python",
   "name": "python",
   "nbconvert_exporter": "python",
   "pygments_lexer": "ipython3",
   "version": "3.10.2"
  }
 },
 "nbformat": 4,
 "nbformat_minor": 5
}

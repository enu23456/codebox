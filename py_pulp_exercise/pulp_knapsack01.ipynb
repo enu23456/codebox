{
 "cells": [
  {
   "cell_type": "markdown",
   "metadata": {},
   "source": [
    "## Problem\n",
    "容量65のナップサックに次の表にある品物を詰め込むことにします．\n",
    "\n",
    "この時，詰め込んだ品物の総価値を最大にするためには何をいくつ詰め込むと良いでしょうか．\n",
    "\n",
    "ただし，同じ品物を何個詰め込んでも良いものとします．\n",
    "\n",
    "| 品物 | 1個あたりの価値 | 1個あたりのサイズ |\n",
    "| - | - | - |\n",
    "| 缶コーヒー | 120 | 10 |\n",
    "| 水入りペットボトル | 130 | 12 |\n",
    "| バナナ | 80 | 7 |\n",
    "| りんご | 100 | 9 |\n",
    "| おにぎり | 250 | 21 |\n",
    "| パン | 185 | 16 |\n",
    "\n",
    "(https://www.msi.co.jp/nuopt/docs/v19/examples/html/02-05-00.html)"
   ]
  },
  {
   "cell_type": "code",
   "execution_count": 1,
   "metadata": {},
   "outputs": [],
   "source": [
    "import pulp\n",
    "import pandas as pd"
   ]
  },
  {
   "cell_type": "code",
   "execution_count": 2,
   "metadata": {},
   "outputs": [
    {
     "data": {
      "text/html": [
       "<div>\n",
       "<style scoped>\n",
       "    .dataframe tbody tr th:only-of-type {\n",
       "        vertical-align: middle;\n",
       "    }\n",
       "\n",
       "    .dataframe tbody tr th {\n",
       "        vertical-align: top;\n",
       "    }\n",
       "\n",
       "    .dataframe thead th {\n",
       "        text-align: right;\n",
       "    }\n",
       "</style>\n",
       "<table border=\"1\" class=\"dataframe\">\n",
       "  <thead>\n",
       "    <tr style=\"text-align: right;\">\n",
       "      <th></th>\n",
       "      <th>品物</th>\n",
       "      <th>1個あたりの価値</th>\n",
       "      <th>1個あたりのサイズ</th>\n",
       "    </tr>\n",
       "  </thead>\n",
       "  <tbody>\n",
       "    <tr>\n",
       "      <th>0</th>\n",
       "      <td>缶コーヒー</td>\n",
       "      <td>120</td>\n",
       "      <td>10</td>\n",
       "    </tr>\n",
       "    <tr>\n",
       "      <th>1</th>\n",
       "      <td>水入りペットボトル</td>\n",
       "      <td>130</td>\n",
       "      <td>12</td>\n",
       "    </tr>\n",
       "    <tr>\n",
       "      <th>2</th>\n",
       "      <td>バナナ</td>\n",
       "      <td>80</td>\n",
       "      <td>7</td>\n",
       "    </tr>\n",
       "    <tr>\n",
       "      <th>3</th>\n",
       "      <td>りんご</td>\n",
       "      <td>100</td>\n",
       "      <td>9</td>\n",
       "    </tr>\n",
       "    <tr>\n",
       "      <th>4</th>\n",
       "      <td>おにぎり</td>\n",
       "      <td>250</td>\n",
       "      <td>21</td>\n",
       "    </tr>\n",
       "    <tr>\n",
       "      <th>5</th>\n",
       "      <td>パン</td>\n",
       "      <td>185</td>\n",
       "      <td>16</td>\n",
       "    </tr>\n",
       "  </tbody>\n",
       "</table>\n",
       "</div>"
      ],
      "text/plain": [
       "          品物  1個あたりの価値  1個あたりのサイズ\n",
       "0      缶コーヒー       120         10\n",
       "1  水入りペットボトル       130         12\n",
       "2        バナナ        80          7\n",
       "3        りんご       100          9\n",
       "4       おにぎり       250         21\n",
       "5         パン       185         16"
      ]
     },
     "execution_count": 2,
     "metadata": {},
     "output_type": "execute_result"
    }
   ],
   "source": [
    "df = pd.DataFrame(\n",
    "    columns=[\"品物\", \"1個あたりの価値\", \"1個あたりのサイズ\"],\n",
    "    data=[\n",
    "        [\"缶コーヒー\", 120, 10],\n",
    "        [\"水入りペットボトル\", 130, 12],\n",
    "        [\"バナナ\", 80, 7],\n",
    "        [\"りんご\", 100, 9],\n",
    "        [\"おにぎり\", 250, 21],\n",
    "        [\"パン\", 185, 16],\n",
    "        ]\n",
    "    )\n",
    "df"
   ]
  },
  {
   "cell_type": "code",
   "execution_count": 3,
   "metadata": {},
   "outputs": [
    {
     "data": {
      "text/plain": [
       "knapsack:\n",
       "MAXIMIZE\n",
       "None\n",
       "VARIABLES"
      ]
     },
     "execution_count": 3,
     "metadata": {},
     "output_type": "execute_result"
    }
   ],
   "source": [
    "problem = pulp.LpProblem(name=\"knapsack\", sense=pulp.LpMaximize)\n",
    "problem"
   ]
  },
  {
   "cell_type": "code",
   "execution_count": 4,
   "metadata": {},
   "outputs": [
    {
     "data": {
      "text/plain": [
       "{'缶コーヒー': _缶コーヒー,\n",
       " '水入りペットボトル': _水入りペットボトル,\n",
       " 'バナナ': _バナナ,\n",
       " 'りんご': _りんご,\n",
       " 'おにぎり': _おにぎり,\n",
       " 'パン': _パン}"
      ]
     },
     "execution_count": 4,
     "metadata": {},
     "output_type": "execute_result"
    }
   ],
   "source": [
    "temp = pulp.LpVariable.dicts(\"\", df[\"品物\"], lowBound=0, cat=pulp.LpInteger)\n",
    "temp"
   ]
  },
  {
   "cell_type": "code",
   "execution_count": 5,
   "metadata": {},
   "outputs": [
    {
     "data": {
      "text/plain": [
       "knapsack:\n",
       "MAXIMIZE\n",
       "250*_おにぎり + 100*_りんご + 80*_バナナ + 185*_パン + 130*_水入りペットボトル + 120*_缶コーヒー + 0\n",
       "VARIABLES\n",
       "0 <= _おにぎり Integer\n",
       "0 <= _りんご Integer\n",
       "0 <= _バナナ Integer\n",
       "0 <= _パン Integer\n",
       "0 <= _水入りペットボトル Integer\n",
       "0 <= _缶コーヒー Integer"
      ]
     },
     "execution_count": 5,
     "metadata": {},
     "output_type": "execute_result"
    }
   ],
   "source": [
    "problem += pulp.lpSum([temp[i] * df[\"1個あたりの価値\"][df[\"品物\"] == i].iloc[0] for i in temp.keys()])\n",
    "problem"
   ]
  },
  {
   "cell_type": "code",
   "execution_count": 6,
   "metadata": {},
   "outputs": [
    {
     "data": {
      "text/plain": [
       "knapsack:\n",
       "MAXIMIZE\n",
       "250*_おにぎり + 100*_りんご + 80*_バナナ + 185*_パン + 130*_水入りペットボトル + 120*_缶コーヒー + 0\n",
       "SUBJECT TO\n",
       "_C1: 21 _おにぎり + 9 _りんご + 7 _バナナ + 16 _パン + 12 _水入りペットボトル + 10 _缶コーヒー <= 65\n",
       "\n",
       "VARIABLES\n",
       "0 <= _おにぎり Integer\n",
       "0 <= _りんご Integer\n",
       "0 <= _バナナ Integer\n",
       "0 <= _パン Integer\n",
       "0 <= _水入りペットボトル Integer\n",
       "0 <= _缶コーヒー Integer"
      ]
     },
     "execution_count": 6,
     "metadata": {},
     "output_type": "execute_result"
    }
   ],
   "source": [
    "problem += pulp.lpSum([temp[i] * df[\"1個あたりのサイズ\"][df[\"品物\"] == i].iloc[0] for i in temp.keys()]) <= 65\n",
    "problem"
   ]
  },
  {
   "cell_type": "code",
   "execution_count": 7,
   "metadata": {},
   "outputs": [
    {
     "name": "stdout",
     "output_type": "stream",
     "text": [
      "Status Optimal\n"
     ]
    }
   ],
   "source": [
    "result = problem.solve()\n",
    "print(\"Status\", pulp.LpStatus[result])"
   ]
  },
  {
   "cell_type": "code",
   "execution_count": 8,
   "metadata": {},
   "outputs": [
    {
     "name": "stdout",
     "output_type": "stream",
     "text": [
      "=== Result =============================\n",
      "缶コーヒー : 3.0\n",
      "水入りペットボトル : 0.0\n",
      "バナナ : 2.0\n",
      "りんご : 0.0\n",
      "おにぎり : 1.0\n",
      "パン : 0.0\n",
      "\n",
      "objective value: 770.0\n",
      "========================================\n"
     ]
    }
   ],
   "source": [
    "print(\"=\" * 3, \"Result\", \"=\" * 29)\n",
    "[print(i, \":\", temp[i].value() ) for i in temp.keys()]\n",
    "print()\n",
    "print(\"objective value: {}\".format(pulp.value(problem.objective)))\n",
    "print(\"=\" * 40)"
   ]
  }
 ],
 "metadata": {
  "kernelspec": {
   "display_name": "Python 3 (ipykernel)",
   "language": "python",
   "name": "python3"
  },
  "language_info": {
   "codemirror_mode": {
    "name": "ipython",
    "version": 3
   },
   "file_extension": ".py",
   "mimetype": "text/x-python",
   "name": "python",
   "nbconvert_exporter": "python",
   "pygments_lexer": "ipython3",
   "version": "3.10.2"
  },
  "vscode": {
   "interpreter": {
    "hash": "01a35241bb384f28968fab702aad98056b0c6f65d0b6005f02e109f074a07480"
   }
  }
 },
 "nbformat": 4,
 "nbformat_minor": 4
}

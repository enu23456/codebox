{
 "cells": [
  {
   "cell_type": "markdown",
   "metadata": {},
   "source": [
    "## Problem\n",
    "\n",
    "下表に示す 3 種類の食品 (a, b, c) を使って、2 種類の栄養素 (x, y) の摂取量を満たす一番安い組み合わせを求めてください。\n",
    "\n",
    "|         | 食品a | 食品b |  食品c | 摂取量 |\n",
    "|      -  |     - |     - |      - |      - |\n",
    "| 栄養素x |     3 |     1 |      2 |     15 |\n",
    "| 栄養素y |     1 |     2 |      4 |     10 |\n",
    "|    単価 |     4 |     2 |      5 |        |\n",
    "\n",
    "(http://www.nct9.ne.jp/m_hiroi/light/pulp01.html#chap03)"
   ]
  },
  {
   "cell_type": "code",
   "execution_count": 1,
   "metadata": {},
   "outputs": [],
   "source": [
    "import pulp\n",
    "import pandas as pd"
   ]
  },
  {
   "cell_type": "code",
   "execution_count": 2,
   "metadata": {},
   "outputs": [
    {
     "data": {
      "text/html": [
       "<div>\n",
       "<style scoped>\n",
       "    .dataframe tbody tr th:only-of-type {\n",
       "        vertical-align: middle;\n",
       "    }\n",
       "\n",
       "    .dataframe tbody tr th {\n",
       "        vertical-align: top;\n",
       "    }\n",
       "\n",
       "    .dataframe thead th {\n",
       "        text-align: right;\n",
       "    }\n",
       "</style>\n",
       "<table border=\"1\" class=\"dataframe\">\n",
       "  <thead>\n",
       "    <tr style=\"text-align: right;\">\n",
       "      <th></th>\n",
       "      <th>食品a</th>\n",
       "      <th>食品b</th>\n",
       "      <th>食品c</th>\n",
       "      <th>摂取量</th>\n",
       "    </tr>\n",
       "  </thead>\n",
       "  <tbody>\n",
       "    <tr>\n",
       "      <th>栄養素x</th>\n",
       "      <td>3</td>\n",
       "      <td>1</td>\n",
       "      <td>2</td>\n",
       "      <td>15.0</td>\n",
       "    </tr>\n",
       "    <tr>\n",
       "      <th>栄養素y</th>\n",
       "      <td>1</td>\n",
       "      <td>2</td>\n",
       "      <td>4</td>\n",
       "      <td>10.0</td>\n",
       "    </tr>\n",
       "    <tr>\n",
       "      <th>単価</th>\n",
       "      <td>4</td>\n",
       "      <td>2</td>\n",
       "      <td>5</td>\n",
       "      <td>NaN</td>\n",
       "    </tr>\n",
       "  </tbody>\n",
       "</table>\n",
       "</div>"
      ],
      "text/plain": [
       "      食品a  食品b  食品c   摂取量\n",
       "栄養素x    3    1    2  15.0\n",
       "栄養素y    1    2    4  10.0\n",
       "単価      4    2    5   NaN"
      ]
     },
     "execution_count": 2,
     "metadata": {},
     "output_type": "execute_result"
    }
   ],
   "source": [
    "df = pd.DataFrame(\n",
    "    columns=['食品a', '食品b', '食品c', '摂取量'],\n",
    "    index=['栄養素x', '栄養素y', '単価'],\n",
    "    data=[\n",
    "        [3, 1, 2, 15],\n",
    "        [1, 2, 4, 10],\n",
    "        [4, 2, 5]\n",
    "        ]\n",
    "    )\n",
    "df"
   ]
  },
  {
   "cell_type": "code",
   "execution_count": 3,
   "metadata": {},
   "outputs": [
    {
     "data": {
      "text/plain": [
       "diet:\n",
       "MINIMIZE\n",
       "None\n",
       "VARIABLES"
      ]
     },
     "execution_count": 3,
     "metadata": {},
     "output_type": "execute_result"
    }
   ],
   "source": [
    "problem = pulp.LpProblem(name=\"diet\", sense=pulp.LpMinimize)\n",
    "problem"
   ]
  },
  {
   "cell_type": "code",
   "execution_count": 4,
   "metadata": {},
   "outputs": [
    {
     "data": {
      "text/plain": [
       "{'食品a': _食品a, '食品b': _食品b, '食品c': _食品c}"
      ]
     },
     "execution_count": 4,
     "metadata": {},
     "output_type": "execute_result"
    }
   ],
   "source": [
    "food = pulp.LpVariable.dicts(\"\", df.columns[:-1], lowBound=0, cat=pulp.LpInteger)\n",
    "food"
   ]
  },
  {
   "cell_type": "code",
   "execution_count": 5,
   "metadata": {},
   "outputs": [
    {
     "data": {
      "text/plain": [
       "diet:\n",
       "MINIMIZE\n",
       "4*_食品a + 2*_食品b + 5*_食品c + 0\n",
       "VARIABLES\n",
       "0 <= _食品a Integer\n",
       "0 <= _食品b Integer\n",
       "0 <= _食品c Integer"
      ]
     },
     "execution_count": 5,
     "metadata": {},
     "output_type": "execute_result"
    }
   ],
   "source": [
    "problem += pulp.lpSum([food[i] * df[i][\"単価\"] for i in food.keys()])\n",
    "problem"
   ]
  },
  {
   "cell_type": "code",
   "execution_count": 6,
   "metadata": {},
   "outputs": [
    {
     "data": {
      "text/plain": [
       "diet:\n",
       "MINIMIZE\n",
       "4*_食品a + 2*_食品b + 5*_食品c + 0\n",
       "SUBJECT TO\n",
       "_C1: 3 _食品a + _食品b + 2 _食品c >= 15\n",
       "\n",
       "_C2: _食品a + 2 _食品b + 4 _食品c >= 10\n",
       "\n",
       "VARIABLES\n",
       "0 <= _食品a Integer\n",
       "0 <= _食品b Integer\n",
       "0 <= _食品c Integer"
      ]
     },
     "execution_count": 6,
     "metadata": {},
     "output_type": "execute_result"
    }
   ],
   "source": [
    "for j in df.index[:-1]:\n",
    "    problem += pulp.lpSum([food[i] * df[i][j] for i in food.keys()]) >= df[\"摂取量\"][j]\n",
    "problem"
   ]
  },
  {
   "cell_type": "code",
   "execution_count": 7,
   "metadata": {},
   "outputs": [
    {
     "name": "stdout",
     "output_type": "stream",
     "text": [
      "Status Optimal\n"
     ]
    }
   ],
   "source": [
    "result = problem.solve()\n",
    "print(\"Status\", pulp.LpStatus[result])"
   ]
  },
  {
   "cell_type": "code",
   "execution_count": 8,
   "metadata": {},
   "outputs": [
    {
     "name": "stdout",
     "output_type": "stream",
     "text": [
      "=== Result =============================\n",
      "食品a : 4.0\n",
      "食品b : 3.0\n",
      "食品c : 0.0\n",
      "総価格: 22.0\n",
      "========================================\n"
     ]
    }
   ],
   "source": [
    "print(\"=\" * 3, \"Result\", \"=\" * 29)\n",
    "[print(i, \":\", food[i].value() ) for i in food.keys()]\n",
    "print('総価格: {}'.format(pulp.value(problem.objective)))\n",
    "print(\"=\" * 40)"
   ]
  }
 ],
 "metadata": {
  "kernelspec": {
   "display_name": "Python 3 (ipykernel)",
   "language": "python",
   "name": "python3"
  },
  "language_info": {
   "codemirror_mode": {
    "name": "ipython",
    "version": 3
   },
   "file_extension": ".py",
   "mimetype": "text/x-python",
   "name": "python",
   "nbconvert_exporter": "python",
   "pygments_lexer": "ipython3",
   "version": "3.10.2"
  },
  "vscode": {
   "interpreter": {
    "hash": "01a35241bb384f28968fab702aad98056b0c6f65d0b6005f02e109f074a07480"
   }
  }
 },
 "nbformat": 4,
 "nbformat_minor": 4
}
